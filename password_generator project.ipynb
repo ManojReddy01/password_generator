{
 "cells": [
  {
   "cell_type": "code",
   "execution_count": 1,
   "id": "40f68ef0-a7e6-4db3-a8d8-21a65028bf9f",
   "metadata": {},
   "outputs": [
    {
     "name": "stdout",
     "output_type": "stream",
     "text": [
      "abcdefghijklmnopqrstuvwxyzABCDEFGHIJKLMNOPQRSTUVWXYZ\n",
      "0123456789\n",
      "%\n"
     ]
    }
   ],
   "source": [
    "import string\n",
    "print(string.ascii_letters)\n",
    "print(string.digits)\n",
    "print(string.punctuation[4])"
   ]
  },
  {
   "cell_type": "code",
   "execution_count": 2,
   "id": "cdbfb230-3a12-4cd8-a954-183c3ebebc31",
   "metadata": {},
   "outputs": [
    {
     "name": "stdout",
     "output_type": "stream",
     "text": [
      "Roll Numbers List:\n",
      "['20881A0401', '20881A0402', '20881A0403', '20881A0404', '20881A0405', '20881A0406', '20881A0407', '20881A0408', '20881A0409', '20881A0411', '20881A0412', '20881A0413', '20881A0414', '20881A0415', '20881A0416', '20881A0417', '20881A0418', '20881A0419', '20881A0420', '20881A0421', '20881A0422', '20881A0423', '20881A0424', '20881A0425', '20881A0426', '20881A0427', '20881A0428', '20881A0429', '20881A0430', '20881A0431', '20881A0432', '20881A0433', '20881A0434', '20881A0435', '20881A0436', '20881A0437', '20881A0438', '20881A0439', '20881A0440', '20881A0441', '20881A0442', '20881A0443', '20881A0444', '20881A0445', '20881A0446', '20881A0447', '20881A0448', '20881A0449', '20881A0450', '20881A0451', '20881A0452', '20881A0453', '20881A0454', '20881A0455', '20881A0456', '20881A0457', '20881A0458', '20881A0459', '20881A0460', '20881A0461', '20881A0462', '20881A0463', '20881A0464', '20881A0465', '20881A0466', '20881A0467', '20881A0468', '20881A0469', '20881A0470', '20881A0471', '20881A0472', '20881A0473', '20881A0474', '20881A0475', '20881A0476', '20881A0477', '20881A0478', '20881A0479', '20881A0480', '20881A0481', '20881A0482', '20881A0483', '20881A0484', '20881A0485', '20881A0486', '20881A0487', '20881A0488', '20881A0489', '20881A0490', '20881A0491', '20881A0492', '20881A0493', '20881A0494', '20881A0495', '20881A0496', '20881A0497', '20881A0498', '20881A0499']\n",
      "Generated Passwords:\n"
     ]
    }
   ],
   "source": [
    "import secrets\n",
    "import string\n",
    "\n",
    "asci_things = string.ascii_letters\n",
    "digits_things = string.digits\n",
    "punctu = string.punctuation\n",
    "\n",
    "def password_generator():\n",
    "    \n",
    "    output1 = \"\".join(secrets.choice(asci_things) for _ in range(len(asci_things) // 2))\n",
    "    output2 = \"\".join(secrets.choice(digits_things) for _ in range(len(digits_things) // 2))\n",
    "    output3 = \"\".join(secrets.choice(punctu) for _ in range(len(punctu) // 2))\n",
    "    final_output = \"\".join(secrets.choice(output1 + output2 + output3) for _ in range(16))\n",
    "    return final_output\n",
    "list1 = [\"20881A040\" + str(i) for i in range(1, 10)] + [\"20881A04\" + str(i) for i in range(11, 100)]\n",
    "print(\"Roll Numbers List:\")\n",
    "print(list1)\n",
    "dicti = {roll_number: \"\" for roll_number in list1}\n",
    "\n",
    "def roll_number(roll_numbers):\n",
    "    if not roll_numbers:\n",
    "        print(\"No roll numbers were provided\")\n",
    "        return {}\n",
    "\n",
    "    for roll_number in roll_numbers:\n",
    "        dicti[roll_number] = password_generator()\n",
    "    \n",
    "    return dicti\n",
    "\n",
    "# Generate passwords for each roll number and store the result\n",
    "result = roll_number(list1)\n",
    "\n",
    "# Print the generated passwords for verification\n",
    "print(\"Generated Passwords:\")\n",
    "\n"
   ]
  },
  {
   "cell_type": "code",
   "execution_count": 4,
   "id": "be4c7585-9b04-4daa-98c7-1c680a3f59ea",
   "metadata": {},
   "outputs": [],
   "source": [
    "import pandas as pd"
   ]
  },
  {
   "cell_type": "code",
   "execution_count": 5,
   "id": "9c417533-8a78-4b67-8f29-232081a318f9",
   "metadata": {},
   "outputs": [
    {
     "name": "stdout",
     "output_type": "stream",
     "text": [
      "{'20881A0401': ')#hGE1W3{Frk9HL(', '20881A0402': 'rV<L$?Mnq46,$Eoj', '20881A0403': '>HN[{7CVsS}VsZZ[', '20881A0404': '~>0`}DnO_0`x`DJL', '20881A0405': '8W%%*A*zRa(l}kY_', '20881A0406': ',\"2Tcu@tcJyTn1aF', '20881A0407': 'sSL}<!F$8SoV/%U<', '20881A0408': 'AtADKLA/SCDt[\\\\\\\\?', '20881A0409': '#_31XKY`Xf3xri1g', '20881A0411': '[a(W3B>nEN+E`[kL', '20881A0412': '\\\\>;*-8YtD|a-v;FF', '20881A0413': ';co6OkIq$:e:cdUn', '20881A0414': '[#aj@ejIZ]t;&1*2', '20881A0415': '\"h:-k7#H:%hHZ`\\\\`', '20881A0416': '\"+U93c9nl_c%Z\"c3', '20881A0417': 'LlekWEjia/ke!D1E', '20881A0418': 'FK)[,;J`|Z0=|{-[', '20881A0419': 'D,18AjP,?i[>Av[w', '20881A0420': '=-9BN&r2woBBj;*F', '20881A0421': 'NYV*^A]?uVl?O{YY', '20881A0422': 'eSI;07sS/Zu=KDs$', '20881A0423': \"*PB^sp5e{'['Bkq'\", '20881A0424': 'IEEcoRI3;^Q;\\\\\\\\k\"', '20881A0425': \"VC)R6'h*kJC>J6J{\", '20881A0426': \"E'@o5)yYi(GdjnWW\", '20881A0427': 'N@Xn$AMFF4`JU:X+', '20881A0428': 'CCd%0!kmA!}W#tWR', '20881A0429': '55^,*pLbpfjll~_^', '20881A0430': 'Kor\"r]^XP:PDPm37', '20881A0431': \"=?'ds8s&8IpIgiOc\", '20881A0432': '2Fr=Jr=s7wF<:52+', '20881A0433': 'N5ONyqJOIo>J99Vh', '20881A0434': 'Mp9_&vv|@@v^%@Z1', '20881A0435': 'n,bnDPi]b+P^PPF7', '20881A0436': '\"182.R7d/tE.$$..', '20881A0437': ')>}|S?:?2XrwCl`L', '20881A0438': 'oa{M5L=2$V$==8I4', '20881A0439': 'yUM*,0IY[gAg<q?\\\\', '20881A0440': 't8wtNfOf.DLf>k]9', '20881A0441': '4K*HU\\\\S4&^O^Kp|1', '20881A0442': '=1U=Ud7Y37c>{DAu', '20881A0443': 'kWutW|it{M{]{nJu', '20881A0444': \"*L'.I.2%auH%`z3q\", '20881A0445': 'o1UVh1^yX?aC)>g)', '20881A0446': 'E_eE:!-lRh^>GdTR', '20881A0447': '0G[[+GQzzA|ivzk]', '20881A0448': 'Z_oSL~LJ4%3QydhM', '20881A0449': 'tFL3$(3t[CKKuC$\"', '20881A0450': '@]f^R9W\\\\0+_fTP@6', '20881A0451': 'sxG:ePlj:Lyly&+e', '20881A0452': '<vvX-X-08v(<e<5X', '20881A0453': \"'VQvf4\\\\{.~nY3+Kl\", '20881A0454': 'hV+hon[9q+hz-j|\\\\', '20881A0455': 'ng-^>*g4In71Cg*l', '20881A0456': 'ev\\\\rY0Fe2)0aTaYj', '20881A0457': 'q9Z9\"4R[z[r|{mS|', '20881A0458': '<h<fF=5pGf.|-pHc', '20881A0459': 'SvMyt=$B2@j5B$>T', '20881A0460': '8Q^`CHQ>+^HZk`D+', '20881A0461': '$%pH>%?qMT0EgT@W', '20881A0462': ':Dw0R)Q-eb-,:6C]', '20881A0463': '=S@;o+&nmWHI{>?}', '20881A0464': \"}MKw<KT}sGEQ'Ys'\", '20881A0465': '.g.ko\\\\$ZR,8<RH<1', '20881A0466': ']<8gC<tYtg==Sgtg', '20881A0467': 'pe[zX4icqXv(r+r,', '20881A0468': '~R=R-h6(PCXX-OC/', '20881A0469': 'Y\\\\?~}Q_$mI\\\\9hoYm', '20881A0470': 'xs`DDtD3=T`&CMj3', '20881A0471': 'M30_>gE`>.U>{axc', '20881A0472': '\"&,3oQ}qT,.YI&f}', '20881A0473': '+r(hwhacGKae#N4T', '20881A0474': \"ozp},0'R}%oP8k;b\", '20881A0475': '2*bSz(`zE2(,j=c7', '20881A0476': '`..<trWK`tQ!yr\\\\R', '20881A0477': 'mNeJP=PVJd[JIzVq', '20881A0478': 'Dr\\'6\"De\\'xbO6{\\'\"\"', '20881A0479': 'cp=nln77Hb_qNb/h', '20881A0480': '&$&`j,b`jrVw3GvZ', '20881A0481': ',6OOOG~33*;**qRE', '20881A0482': '3z>|^jL%e5cL?b%,', '20881A0483': 'i!&b_k[P/bk%[SiM', '20881A0484': 'YtsazR$t2-=Y>v){', '20881A0485': 'D-:3q)Hnr!nNU+)F', '20881A0486': 'X$J^8v:J@R,3:78r', '20881A0487': '6N{w[TiA[Xn?6*6T', '20881A0488': \"M7Eiim7yQ0EF'u-L\", '20881A0489': 'Y&lkYMMYaNa,lNp`', '20881A0490': '1/!%6VFd{d!X/RC~', '20881A0491': 'unFBLvF3u\\\\uwFWJW', '20881A0492': '&-mv#$N?~qqfRKk~', '20881A0493': ':#Ar=pN4WQ$h=e]d', '20881A0494': \"-OkHc*cUmTkUk%'N\", '20881A0495': '.Q`1}CFuW]g``CT`', '20881A0496': '9x[N\\\\v\"RxGw3|E}N', '20881A0497': '|0eRS,[WAuuXZqh,', '20881A0498': 'tc!_6.6:>>>6c6zv', '20881A0499': 'yi;x;hG3$y*o4\\\\?$'}\n"
     ]
    }
   ],
   "source": [
    "print(result)"
   ]
  },
  {
   "cell_type": "code",
   "execution_count": 7,
   "id": "a261a8bb-490d-46d4-b819-a66f6c821d2a",
   "metadata": {},
   "outputs": [
    {
     "data": {
      "text/plain": [
       "[('20881A0401', ')#hGE1W3{Frk9HL('),\n",
       " ('20881A0402', 'rV<L$?Mnq46,$Eoj'),\n",
       " ('20881A0403', '>HN[{7CVsS}VsZZ['),\n",
       " ('20881A0404', '~>0`}DnO_0`x`DJL'),\n",
       " ('20881A0405', '8W%%*A*zRa(l}kY_'),\n",
       " ('20881A0406', ',\"2Tcu@tcJyTn1aF'),\n",
       " ('20881A0407', 'sSL}<!F$8SoV/%U<'),\n",
       " ('20881A0408', 'AtADKLA/SCDt[\\\\\\\\?'),\n",
       " ('20881A0409', '#_31XKY`Xf3xri1g'),\n",
       " ('20881A0411', '[a(W3B>nEN+E`[kL'),\n",
       " ('20881A0412', '\\\\>;*-8YtD|a-v;FF'),\n",
       " ('20881A0413', ';co6OkIq$:e:cdUn'),\n",
       " ('20881A0414', '[#aj@ejIZ]t;&1*2'),\n",
       " ('20881A0415', '\"h:-k7#H:%hHZ`\\\\`'),\n",
       " ('20881A0416', '\"+U93c9nl_c%Z\"c3'),\n",
       " ('20881A0417', 'LlekWEjia/ke!D1E'),\n",
       " ('20881A0418', 'FK)[,;J`|Z0=|{-['),\n",
       " ('20881A0419', 'D,18AjP,?i[>Av[w'),\n",
       " ('20881A0420', '=-9BN&r2woBBj;*F'),\n",
       " ('20881A0421', 'NYV*^A]?uVl?O{YY'),\n",
       " ('20881A0422', 'eSI;07sS/Zu=KDs$'),\n",
       " ('20881A0423', \"*PB^sp5e{'['Bkq'\"),\n",
       " ('20881A0424', 'IEEcoRI3;^Q;\\\\\\\\k\"'),\n",
       " ('20881A0425', \"VC)R6'h*kJC>J6J{\"),\n",
       " ('20881A0426', \"E'@o5)yYi(GdjnWW\"),\n",
       " ('20881A0427', 'N@Xn$AMFF4`JU:X+'),\n",
       " ('20881A0428', 'CCd%0!kmA!}W#tWR'),\n",
       " ('20881A0429', '55^,*pLbpfjll~_^'),\n",
       " ('20881A0430', 'Kor\"r]^XP:PDPm37'),\n",
       " ('20881A0431', \"=?'ds8s&8IpIgiOc\"),\n",
       " ('20881A0432', '2Fr=Jr=s7wF<:52+'),\n",
       " ('20881A0433', 'N5ONyqJOIo>J99Vh'),\n",
       " ('20881A0434', 'Mp9_&vv|@@v^%@Z1'),\n",
       " ('20881A0435', 'n,bnDPi]b+P^PPF7'),\n",
       " ('20881A0436', '\"182.R7d/tE.$$..'),\n",
       " ('20881A0437', ')>}|S?:?2XrwCl`L'),\n",
       " ('20881A0438', 'oa{M5L=2$V$==8I4'),\n",
       " ('20881A0439', 'yUM*,0IY[gAg<q?\\\\'),\n",
       " ('20881A0440', 't8wtNfOf.DLf>k]9'),\n",
       " ('20881A0441', '4K*HU\\\\S4&^O^Kp|1'),\n",
       " ('20881A0442', '=1U=Ud7Y37c>{DAu'),\n",
       " ('20881A0443', 'kWutW|it{M{]{nJu'),\n",
       " ('20881A0444', \"*L'.I.2%auH%`z3q\"),\n",
       " ('20881A0445', 'o1UVh1^yX?aC)>g)'),\n",
       " ('20881A0446', 'E_eE:!-lRh^>GdTR'),\n",
       " ('20881A0447', '0G[[+GQzzA|ivzk]'),\n",
       " ('20881A0448', 'Z_oSL~LJ4%3QydhM'),\n",
       " ('20881A0449', 'tFL3$(3t[CKKuC$\"'),\n",
       " ('20881A0450', '@]f^R9W\\\\0+_fTP@6'),\n",
       " ('20881A0451', 'sxG:ePlj:Lyly&+e'),\n",
       " ('20881A0452', '<vvX-X-08v(<e<5X'),\n",
       " ('20881A0453', \"'VQvf4\\\\{.~nY3+Kl\"),\n",
       " ('20881A0454', 'hV+hon[9q+hz-j|\\\\'),\n",
       " ('20881A0455', 'ng-^>*g4In71Cg*l'),\n",
       " ('20881A0456', 'ev\\\\rY0Fe2)0aTaYj'),\n",
       " ('20881A0457', 'q9Z9\"4R[z[r|{mS|'),\n",
       " ('20881A0458', '<h<fF=5pGf.|-pHc'),\n",
       " ('20881A0459', 'SvMyt=$B2@j5B$>T'),\n",
       " ('20881A0460', '8Q^`CHQ>+^HZk`D+'),\n",
       " ('20881A0461', '$%pH>%?qMT0EgT@W'),\n",
       " ('20881A0462', ':Dw0R)Q-eb-,:6C]'),\n",
       " ('20881A0463', '=S@;o+&nmWHI{>?}'),\n",
       " ('20881A0464', \"}MKw<KT}sGEQ'Ys'\"),\n",
       " ('20881A0465', '.g.ko\\\\$ZR,8<RH<1'),\n",
       " ('20881A0466', ']<8gC<tYtg==Sgtg'),\n",
       " ('20881A0467', 'pe[zX4icqXv(r+r,'),\n",
       " ('20881A0468', '~R=R-h6(PCXX-OC/'),\n",
       " ('20881A0469', 'Y\\\\?~}Q_$mI\\\\9hoYm'),\n",
       " ('20881A0470', 'xs`DDtD3=T`&CMj3'),\n",
       " ('20881A0471', 'M30_>gE`>.U>{axc'),\n",
       " ('20881A0472', '\"&,3oQ}qT,.YI&f}'),\n",
       " ('20881A0473', '+r(hwhacGKae#N4T'),\n",
       " ('20881A0474', \"ozp},0'R}%oP8k;b\"),\n",
       " ('20881A0475', '2*bSz(`zE2(,j=c7'),\n",
       " ('20881A0476', '`..<trWK`tQ!yr\\\\R'),\n",
       " ('20881A0477', 'mNeJP=PVJd[JIzVq'),\n",
       " ('20881A0478', 'Dr\\'6\"De\\'xbO6{\\'\"\"'),\n",
       " ('20881A0479', 'cp=nln77Hb_qNb/h'),\n",
       " ('20881A0480', '&$&`j,b`jrVw3GvZ'),\n",
       " ('20881A0481', ',6OOOG~33*;**qRE'),\n",
       " ('20881A0482', '3z>|^jL%e5cL?b%,'),\n",
       " ('20881A0483', 'i!&b_k[P/bk%[SiM'),\n",
       " ('20881A0484', 'YtsazR$t2-=Y>v){'),\n",
       " ('20881A0485', 'D-:3q)Hnr!nNU+)F'),\n",
       " ('20881A0486', 'X$J^8v:J@R,3:78r'),\n",
       " ('20881A0487', '6N{w[TiA[Xn?6*6T'),\n",
       " ('20881A0488', \"M7Eiim7yQ0EF'u-L\"),\n",
       " ('20881A0489', 'Y&lkYMMYaNa,lNp`'),\n",
       " ('20881A0490', '1/!%6VFd{d!X/RC~'),\n",
       " ('20881A0491', 'unFBLvF3u\\\\uwFWJW'),\n",
       " ('20881A0492', '&-mv#$N?~qqfRKk~'),\n",
       " ('20881A0493', ':#Ar=pN4WQ$h=e]d'),\n",
       " ('20881A0494', \"-OkHc*cUmTkUk%'N\"),\n",
       " ('20881A0495', '.Q`1}CFuW]g``CT`'),\n",
       " ('20881A0496', '9x[N\\\\v\"RxGw3|E}N'),\n",
       " ('20881A0497', '|0eRS,[WAuuXZqh,'),\n",
       " ('20881A0498', 'tc!_6.6:>>>6c6zv'),\n",
       " ('20881A0499', 'yi;x;hG3$y*o4\\\\?$')]"
      ]
     },
     "execution_count": 7,
     "metadata": {},
     "output_type": "execute_result"
    }
   ],
   "source": [
    "list(result.items())"
   ]
  },
  {
   "cell_type": "code",
   "execution_count": 8,
   "id": "6e011bb7-a9d8-4838-8037-419f9146bfcf",
   "metadata": {},
   "outputs": [
    {
     "data": {
      "text/html": [
       "<div>\n",
       "<style scoped>\n",
       "    .dataframe tbody tr th:only-of-type {\n",
       "        vertical-align: middle;\n",
       "    }\n",
       "\n",
       "    .dataframe tbody tr th {\n",
       "        vertical-align: top;\n",
       "    }\n",
       "\n",
       "    .dataframe thead th {\n",
       "        text-align: right;\n",
       "    }\n",
       "</style>\n",
       "<table border=\"1\" class=\"dataframe\">\n",
       "  <thead>\n",
       "    <tr style=\"text-align: right;\">\n",
       "      <th></th>\n",
       "      <th>Roll Number</th>\n",
       "      <th>Password</th>\n",
       "    </tr>\n",
       "  </thead>\n",
       "  <tbody>\n",
       "    <tr>\n",
       "      <th>0</th>\n",
       "      <td>20881A0401</td>\n",
       "      <td>)#hGE1W3{Frk9HL(</td>\n",
       "    </tr>\n",
       "    <tr>\n",
       "      <th>1</th>\n",
       "      <td>20881A0402</td>\n",
       "      <td>rV&lt;L$?Mnq46,$Eoj</td>\n",
       "    </tr>\n",
       "    <tr>\n",
       "      <th>2</th>\n",
       "      <td>20881A0403</td>\n",
       "      <td>&gt;HN[{7CVsS}VsZZ[</td>\n",
       "    </tr>\n",
       "    <tr>\n",
       "      <th>3</th>\n",
       "      <td>20881A0404</td>\n",
       "      <td>~&gt;0`}DnO_0`x`DJL</td>\n",
       "    </tr>\n",
       "    <tr>\n",
       "      <th>4</th>\n",
       "      <td>20881A0405</td>\n",
       "      <td>8W%%*A*zRa(l}kY_</td>\n",
       "    </tr>\n",
       "    <tr>\n",
       "      <th>...</th>\n",
       "      <td>...</td>\n",
       "      <td>...</td>\n",
       "    </tr>\n",
       "    <tr>\n",
       "      <th>93</th>\n",
       "      <td>20881A0495</td>\n",
       "      <td>.Q`1}CFuW]g``CT`</td>\n",
       "    </tr>\n",
       "    <tr>\n",
       "      <th>94</th>\n",
       "      <td>20881A0496</td>\n",
       "      <td>9x[N\\v\"RxGw3|E}N</td>\n",
       "    </tr>\n",
       "    <tr>\n",
       "      <th>95</th>\n",
       "      <td>20881A0497</td>\n",
       "      <td>|0eRS,[WAuuXZqh,</td>\n",
       "    </tr>\n",
       "    <tr>\n",
       "      <th>96</th>\n",
       "      <td>20881A0498</td>\n",
       "      <td>tc!_6.6:&gt;&gt;&gt;6c6zv</td>\n",
       "    </tr>\n",
       "    <tr>\n",
       "      <th>97</th>\n",
       "      <td>20881A0499</td>\n",
       "      <td>yi;x;hG3$y*o4\\?$</td>\n",
       "    </tr>\n",
       "  </tbody>\n",
       "</table>\n",
       "<p>98 rows × 2 columns</p>\n",
       "</div>"
      ],
      "text/plain": [
       "   Roll Number          Password\n",
       "0   20881A0401  )#hGE1W3{Frk9HL(\n",
       "1   20881A0402  rV<L$?Mnq46,$Eoj\n",
       "2   20881A0403  >HN[{7CVsS}VsZZ[\n",
       "3   20881A0404  ~>0`}DnO_0`x`DJL\n",
       "4   20881A0405  8W%%*A*zRa(l}kY_\n",
       "..         ...               ...\n",
       "93  20881A0495  .Q`1}CFuW]g``CT`\n",
       "94  20881A0496  9x[N\\v\"RxGw3|E}N\n",
       "95  20881A0497  |0eRS,[WAuuXZqh,\n",
       "96  20881A0498  tc!_6.6:>>>6c6zv\n",
       "97  20881A0499  yi;x;hG3$y*o4\\?$\n",
       "\n",
       "[98 rows x 2 columns]"
      ]
     },
     "execution_count": 8,
     "metadata": {},
     "output_type": "execute_result"
    }
   ],
   "source": [
    "data=pd.DataFrame(list(result.items()), columns=[\"Roll Number\",\"Password\"])\n",
    "data"
   ]
  },
  {
   "cell_type": "code",
   "execution_count": 9,
   "id": "7396a41c-764a-453b-afac-4483d1d7797f",
   "metadata": {},
   "outputs": [
    {
     "data": {
      "text/html": [
       "<div>\n",
       "<style scoped>\n",
       "    .dataframe tbody tr th:only-of-type {\n",
       "        vertical-align: middle;\n",
       "    }\n",
       "\n",
       "    .dataframe tbody tr th {\n",
       "        vertical-align: top;\n",
       "    }\n",
       "\n",
       "    .dataframe thead th {\n",
       "        text-align: right;\n",
       "    }\n",
       "</style>\n",
       "<table border=\"1\" class=\"dataframe\">\n",
       "  <thead>\n",
       "    <tr style=\"text-align: right;\">\n",
       "      <th></th>\n",
       "      <th>Roll Number</th>\n",
       "      <th>Password</th>\n",
       "    </tr>\n",
       "  </thead>\n",
       "  <tbody>\n",
       "    <tr>\n",
       "      <th>0</th>\n",
       "      <td>20881A0401</td>\n",
       "      <td>)#hGE1W3{Frk9HL(</td>\n",
       "    </tr>\n",
       "    <tr>\n",
       "      <th>1</th>\n",
       "      <td>20881A0402</td>\n",
       "      <td>rV&lt;L$?Mnq46,$Eoj</td>\n",
       "    </tr>\n",
       "    <tr>\n",
       "      <th>2</th>\n",
       "      <td>20881A0403</td>\n",
       "      <td>&gt;HN[{7CVsS}VsZZ[</td>\n",
       "    </tr>\n",
       "    <tr>\n",
       "      <th>3</th>\n",
       "      <td>20881A0404</td>\n",
       "      <td>~&gt;0`}DnO_0`x`DJL</td>\n",
       "    </tr>\n",
       "    <tr>\n",
       "      <th>4</th>\n",
       "      <td>20881A0405</td>\n",
       "      <td>8W%%*A*zRa(l}kY_</td>\n",
       "    </tr>\n",
       "  </tbody>\n",
       "</table>\n",
       "</div>"
      ],
      "text/plain": [
       "  Roll Number          Password\n",
       "0  20881A0401  )#hGE1W3{Frk9HL(\n",
       "1  20881A0402  rV<L$?Mnq46,$Eoj\n",
       "2  20881A0403  >HN[{7CVsS}VsZZ[\n",
       "3  20881A0404  ~>0`}DnO_0`x`DJL\n",
       "4  20881A0405  8W%%*A*zRa(l}kY_"
      ]
     },
     "execution_count": 9,
     "metadata": {},
     "output_type": "execute_result"
    }
   ],
   "source": [
    "data.head()\n"
   ]
  },
  {
   "cell_type": "code",
   "execution_count": 10,
   "id": "9c9fdb06-4480-4901-bb51-2b4840b8fe13",
   "metadata": {},
   "outputs": [
    {
     "data": {
      "text/html": [
       "<div>\n",
       "<style scoped>\n",
       "    .dataframe tbody tr th:only-of-type {\n",
       "        vertical-align: middle;\n",
       "    }\n",
       "\n",
       "    .dataframe tbody tr th {\n",
       "        vertical-align: top;\n",
       "    }\n",
       "\n",
       "    .dataframe thead th {\n",
       "        text-align: right;\n",
       "    }\n",
       "</style>\n",
       "<table border=\"1\" class=\"dataframe\">\n",
       "  <thead>\n",
       "    <tr style=\"text-align: right;\">\n",
       "      <th></th>\n",
       "      <th>Roll Number</th>\n",
       "      <th>Password</th>\n",
       "    </tr>\n",
       "  </thead>\n",
       "  <tbody>\n",
       "    <tr>\n",
       "      <th>93</th>\n",
       "      <td>20881A0495</td>\n",
       "      <td>.Q`1}CFuW]g``CT`</td>\n",
       "    </tr>\n",
       "    <tr>\n",
       "      <th>94</th>\n",
       "      <td>20881A0496</td>\n",
       "      <td>9x[N\\v\"RxGw3|E}N</td>\n",
       "    </tr>\n",
       "    <tr>\n",
       "      <th>95</th>\n",
       "      <td>20881A0497</td>\n",
       "      <td>|0eRS,[WAuuXZqh,</td>\n",
       "    </tr>\n",
       "    <tr>\n",
       "      <th>96</th>\n",
       "      <td>20881A0498</td>\n",
       "      <td>tc!_6.6:&gt;&gt;&gt;6c6zv</td>\n",
       "    </tr>\n",
       "    <tr>\n",
       "      <th>97</th>\n",
       "      <td>20881A0499</td>\n",
       "      <td>yi;x;hG3$y*o4\\?$</td>\n",
       "    </tr>\n",
       "  </tbody>\n",
       "</table>\n",
       "</div>"
      ],
      "text/plain": [
       "   Roll Number          Password\n",
       "93  20881A0495  .Q`1}CFuW]g``CT`\n",
       "94  20881A0496  9x[N\\v\"RxGw3|E}N\n",
       "95  20881A0497  |0eRS,[WAuuXZqh,\n",
       "96  20881A0498  tc!_6.6:>>>6c6zv\n",
       "97  20881A0499  yi;x;hG3$y*o4\\?$"
      ]
     },
     "execution_count": 10,
     "metadata": {},
     "output_type": "execute_result"
    }
   ],
   "source": [
    "data.tail()"
   ]
  },
  {
   "cell_type": "code",
   "execution_count": 11,
   "id": "5a88a99a-5686-4b38-b337-53baaba454c2",
   "metadata": {},
   "outputs": [
    {
     "data": {
      "text/html": [
       "<div>\n",
       "<style scoped>\n",
       "    .dataframe tbody tr th:only-of-type {\n",
       "        vertical-align: middle;\n",
       "    }\n",
       "\n",
       "    .dataframe tbody tr th {\n",
       "        vertical-align: top;\n",
       "    }\n",
       "\n",
       "    .dataframe thead th {\n",
       "        text-align: right;\n",
       "    }\n",
       "</style>\n",
       "<table border=\"1\" class=\"dataframe\">\n",
       "  <thead>\n",
       "    <tr style=\"text-align: right;\">\n",
       "      <th></th>\n",
       "      <th>Roll Number</th>\n",
       "      <th>Password</th>\n",
       "    </tr>\n",
       "  </thead>\n",
       "  <tbody>\n",
       "    <tr>\n",
       "      <th>0</th>\n",
       "      <td>False</td>\n",
       "      <td>False</td>\n",
       "    </tr>\n",
       "    <tr>\n",
       "      <th>1</th>\n",
       "      <td>False</td>\n",
       "      <td>False</td>\n",
       "    </tr>\n",
       "    <tr>\n",
       "      <th>2</th>\n",
       "      <td>False</td>\n",
       "      <td>False</td>\n",
       "    </tr>\n",
       "    <tr>\n",
       "      <th>3</th>\n",
       "      <td>False</td>\n",
       "      <td>False</td>\n",
       "    </tr>\n",
       "    <tr>\n",
       "      <th>4</th>\n",
       "      <td>False</td>\n",
       "      <td>False</td>\n",
       "    </tr>\n",
       "    <tr>\n",
       "      <th>...</th>\n",
       "      <td>...</td>\n",
       "      <td>...</td>\n",
       "    </tr>\n",
       "    <tr>\n",
       "      <th>93</th>\n",
       "      <td>False</td>\n",
       "      <td>False</td>\n",
       "    </tr>\n",
       "    <tr>\n",
       "      <th>94</th>\n",
       "      <td>False</td>\n",
       "      <td>False</td>\n",
       "    </tr>\n",
       "    <tr>\n",
       "      <th>95</th>\n",
       "      <td>False</td>\n",
       "      <td>False</td>\n",
       "    </tr>\n",
       "    <tr>\n",
       "      <th>96</th>\n",
       "      <td>False</td>\n",
       "      <td>False</td>\n",
       "    </tr>\n",
       "    <tr>\n",
       "      <th>97</th>\n",
       "      <td>False</td>\n",
       "      <td>False</td>\n",
       "    </tr>\n",
       "  </tbody>\n",
       "</table>\n",
       "<p>98 rows × 2 columns</p>\n",
       "</div>"
      ],
      "text/plain": [
       "    Roll Number  Password\n",
       "0         False     False\n",
       "1         False     False\n",
       "2         False     False\n",
       "3         False     False\n",
       "4         False     False\n",
       "..          ...       ...\n",
       "93        False     False\n",
       "94        False     False\n",
       "95        False     False\n",
       "96        False     False\n",
       "97        False     False\n",
       "\n",
       "[98 rows x 2 columns]"
      ]
     },
     "execution_count": 11,
     "metadata": {},
     "output_type": "execute_result"
    }
   ],
   "source": [
    "data.isna()"
   ]
  },
  {
   "cell_type": "code",
   "execution_count": 12,
   "id": "6a30f068-15df-4891-b5f8-bab6d8fbc9c4",
   "metadata": {},
   "outputs": [
    {
     "data": {
      "text/plain": [
       "Roll Number    0\n",
       "Password       0\n",
       "dtype: int64"
      ]
     },
     "execution_count": 12,
     "metadata": {},
     "output_type": "execute_result"
    }
   ],
   "source": [
    "data.isna().sum()"
   ]
  },
  {
   "cell_type": "code",
   "execution_count": 13,
   "id": "87052848-ed96-4194-a844-8f1a3bec98e1",
   "metadata": {},
   "outputs": [],
   "source": [
    "data.drop_duplicates(inplace=True)"
   ]
  },
  {
   "cell_type": "code",
   "execution_count": 14,
   "id": "c1314834-f7e8-49eb-95c2-246e6be8b9af",
   "metadata": {},
   "outputs": [
    {
     "name": "stdout",
     "output_type": "stream",
     "text": [
      "<class 'pandas.core.frame.DataFrame'>\n",
      "RangeIndex: 98 entries, 0 to 97\n",
      "Data columns (total 2 columns):\n",
      " #   Column       Non-Null Count  Dtype \n",
      "---  ------       --------------  ----- \n",
      " 0   Roll Number  98 non-null     object\n",
      " 1   Password     98 non-null     object\n",
      "dtypes: object(2)\n",
      "memory usage: 1.7+ KB\n"
     ]
    }
   ],
   "source": [
    "data.info()"
   ]
  },
  {
   "cell_type": "code",
   "execution_count": 15,
   "id": "9045a420-eead-46b7-b71a-befbef5d0f84",
   "metadata": {},
   "outputs": [
    {
     "data": {
      "text/html": [
       "<div>\n",
       "<style scoped>\n",
       "    .dataframe tbody tr th:only-of-type {\n",
       "        vertical-align: middle;\n",
       "    }\n",
       "\n",
       "    .dataframe tbody tr th {\n",
       "        vertical-align: top;\n",
       "    }\n",
       "\n",
       "    .dataframe thead th {\n",
       "        text-align: right;\n",
       "    }\n",
       "</style>\n",
       "<table border=\"1\" class=\"dataframe\">\n",
       "  <thead>\n",
       "    <tr style=\"text-align: right;\">\n",
       "      <th></th>\n",
       "      <th>Roll Number</th>\n",
       "      <th>Password</th>\n",
       "    </tr>\n",
       "  </thead>\n",
       "  <tbody>\n",
       "    <tr>\n",
       "      <th>count</th>\n",
       "      <td>98</td>\n",
       "      <td>98</td>\n",
       "    </tr>\n",
       "    <tr>\n",
       "      <th>unique</th>\n",
       "      <td>98</td>\n",
       "      <td>98</td>\n",
       "    </tr>\n",
       "    <tr>\n",
       "      <th>top</th>\n",
       "      <td>20881A0401</td>\n",
       "      <td>)#hGE1W3{Frk9HL(</td>\n",
       "    </tr>\n",
       "    <tr>\n",
       "      <th>freq</th>\n",
       "      <td>1</td>\n",
       "      <td>1</td>\n",
       "    </tr>\n",
       "  </tbody>\n",
       "</table>\n",
       "</div>"
      ],
      "text/plain": [
       "       Roll Number          Password\n",
       "count           98                98\n",
       "unique          98                98\n",
       "top     20881A0401  )#hGE1W3{Frk9HL(\n",
       "freq             1                 1"
      ]
     },
     "execution_count": 15,
     "metadata": {},
     "output_type": "execute_result"
    }
   ],
   "source": [
    "data.describe()"
   ]
  },
  {
   "cell_type": "code",
   "execution_count": 16,
   "id": "47fbc382-4f8c-4cc3-8035-2f22a54c2d15",
   "metadata": {},
   "outputs": [],
   "source": [
    "data['Password Length'] = data['Password'].apply(len)  # Add a column with the length of passwords\n"
   ]
  },
  {
   "cell_type": "code",
   "execution_count": 17,
   "id": "9af2e94d-fa10-4ce1-8621-032f6ce4a3e0",
   "metadata": {},
   "outputs": [
    {
     "data": {
      "text/html": [
       "<div>\n",
       "<style scoped>\n",
       "    .dataframe tbody tr th:only-of-type {\n",
       "        vertical-align: middle;\n",
       "    }\n",
       "\n",
       "    .dataframe tbody tr th {\n",
       "        vertical-align: top;\n",
       "    }\n",
       "\n",
       "    .dataframe thead th {\n",
       "        text-align: right;\n",
       "    }\n",
       "</style>\n",
       "<table border=\"1\" class=\"dataframe\">\n",
       "  <thead>\n",
       "    <tr style=\"text-align: right;\">\n",
       "      <th></th>\n",
       "      <th>Roll Number</th>\n",
       "      <th>Password</th>\n",
       "      <th>Password Length</th>\n",
       "    </tr>\n",
       "  </thead>\n",
       "  <tbody>\n",
       "    <tr>\n",
       "      <th>0</th>\n",
       "      <td>20881A0401</td>\n",
       "      <td>)#hGE1W3{Frk9HL(</td>\n",
       "      <td>16</td>\n",
       "    </tr>\n",
       "    <tr>\n",
       "      <th>1</th>\n",
       "      <td>20881A0402</td>\n",
       "      <td>rV&lt;L$?Mnq46,$Eoj</td>\n",
       "      <td>16</td>\n",
       "    </tr>\n",
       "    <tr>\n",
       "      <th>2</th>\n",
       "      <td>20881A0403</td>\n",
       "      <td>&gt;HN[{7CVsS}VsZZ[</td>\n",
       "      <td>16</td>\n",
       "    </tr>\n",
       "    <tr>\n",
       "      <th>3</th>\n",
       "      <td>20881A0404</td>\n",
       "      <td>~&gt;0`}DnO_0`x`DJL</td>\n",
       "      <td>16</td>\n",
       "    </tr>\n",
       "    <tr>\n",
       "      <th>4</th>\n",
       "      <td>20881A0405</td>\n",
       "      <td>8W%%*A*zRa(l}kY_</td>\n",
       "      <td>16</td>\n",
       "    </tr>\n",
       "    <tr>\n",
       "      <th>...</th>\n",
       "      <td>...</td>\n",
       "      <td>...</td>\n",
       "      <td>...</td>\n",
       "    </tr>\n",
       "    <tr>\n",
       "      <th>93</th>\n",
       "      <td>20881A0495</td>\n",
       "      <td>.Q`1}CFuW]g``CT`</td>\n",
       "      <td>16</td>\n",
       "    </tr>\n",
       "    <tr>\n",
       "      <th>94</th>\n",
       "      <td>20881A0496</td>\n",
       "      <td>9x[N\\v\"RxGw3|E}N</td>\n",
       "      <td>16</td>\n",
       "    </tr>\n",
       "    <tr>\n",
       "      <th>95</th>\n",
       "      <td>20881A0497</td>\n",
       "      <td>|0eRS,[WAuuXZqh,</td>\n",
       "      <td>16</td>\n",
       "    </tr>\n",
       "    <tr>\n",
       "      <th>96</th>\n",
       "      <td>20881A0498</td>\n",
       "      <td>tc!_6.6:&gt;&gt;&gt;6c6zv</td>\n",
       "      <td>16</td>\n",
       "    </tr>\n",
       "    <tr>\n",
       "      <th>97</th>\n",
       "      <td>20881A0499</td>\n",
       "      <td>yi;x;hG3$y*o4\\?$</td>\n",
       "      <td>16</td>\n",
       "    </tr>\n",
       "  </tbody>\n",
       "</table>\n",
       "<p>98 rows × 3 columns</p>\n",
       "</div>"
      ],
      "text/plain": [
       "   Roll Number          Password  Password Length\n",
       "0   20881A0401  )#hGE1W3{Frk9HL(               16\n",
       "1   20881A0402  rV<L$?Mnq46,$Eoj               16\n",
       "2   20881A0403  >HN[{7CVsS}VsZZ[               16\n",
       "3   20881A0404  ~>0`}DnO_0`x`DJL               16\n",
       "4   20881A0405  8W%%*A*zRa(l}kY_               16\n",
       "..         ...               ...              ...\n",
       "93  20881A0495  .Q`1}CFuW]g``CT`               16\n",
       "94  20881A0496  9x[N\\v\"RxGw3|E}N               16\n",
       "95  20881A0497  |0eRS,[WAuuXZqh,               16\n",
       "96  20881A0498  tc!_6.6:>>>6c6zv               16\n",
       "97  20881A0499  yi;x;hG3$y*o4\\?$               16\n",
       "\n",
       "[98 rows x 3 columns]"
      ]
     },
     "execution_count": 17,
     "metadata": {},
     "output_type": "execute_result"
    }
   ],
   "source": [
    "data"
   ]
  },
  {
   "cell_type": "code",
   "execution_count": 18,
   "id": "f8345cbc-bfea-408e-98c7-8c8931f682ea",
   "metadata": {},
   "outputs": [
    {
     "data": {
      "text/plain": [
       "<Axes: >"
      ]
     },
     "execution_count": 18,
     "metadata": {},
     "output_type": "execute_result"
    },
    {
     "data": {
      "image/png": "[encoded data removed]",
      "text/plain": [
       "<Figure size 640x480 with 1 Axes>"
      ]
     },
     "metadata": {},
     "output_type": "display_data"
    }
   ],
   "source": [
    "data['Password Length'].hist()  # Plot histogram of password lengths\n"
   ]
  },
  {
   "cell_type": "code",
   "execution_count": 23,
   "id": "e9bae47b-eefd-4554-82fd-48a6295d2dcb",
   "metadata": {},
   "outputs": [],
   "source": [
    "import matplotlib.pyplot as plt"
   ]
  },
  {
   "cell_type": "code",
   "execution_count": 24,
   "id": "25a73066-3a61-4e3b-9f7f-16bed2479301",
   "metadata": {},
   "outputs": [
    {
     "data": {
      "image/png": "[encoded data removed]",
      "text/plain": [
       "<Figure size 640x480 with 1 Axes>"
      ]
     },
     "metadata": {},
     "output_type": "display_data"
    }
   ],
   "source": [
    "\n",
    "data['Password Length'].hist()\n",
    "plt.xlabel('Password Length')\n",
    "plt.ylabel('Frequency')\n",
    "plt.title('Distribution of Password Lengths')\n",
    "plt.show()\n"
   ]
  },
  {
   "cell_type": "code",
   "execution_count": 25,
   "id": "cda715be-5e22-4322-be84-909179b1d12d",
   "metadata": {},
   "outputs": [],
   "source": [
    "data.to_csv(\"roll_numbers_passwords.csv\",index=False)"
   ]
  },
  {
   "cell_type": "code",
   "execution_count": null,
   "id": "3e8f8307-5fa4-49a8-8291-eea3044a867b",
   "metadata": {},
   "outputs": [],
   "source": []
  }
 ],
 "metadata": {
  "kernelspec": {
   "display_name": "Python 3 (ipykernel)",
   "language": "python",
   "name": "python3"
  },
  "language_info": {
   "codemirror_mode": {
    "name": "ipython",
    "version": 3
   },
   "file_extension": ".py",
   "mimetype": "text/x-python",
   "name": "python",
   "nbconvert_exporter": "python",
   "pygments_lexer": "ipython3",
   "version": "3.9.18"
  }
 },
 "nbformat": 4,
 "nbformat_minor": 5
}
